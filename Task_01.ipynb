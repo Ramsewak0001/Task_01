{
 "cells": [
  {
   "cell_type": "code",
   "execution_count": null,
   "id": "14f0ea8a-0dbe-4267-8f69-8633280d7d0c",
   "metadata": {},
   "outputs": [],
   "source": [
    "Q1. Create a function which will take a list as an argument and return the product of all the numbers\n",
    "after creating a flat list.\n",
    "Use the below-given list as an argument for your function.\n",
    "list1 = [1,2,3,4, [44,55,66, True], False, (34,56,78,89,34), {1,2,3,3,2,1}, {1:34, \"key2\": [55, 67, 78, 89], 4: (45,\n",
    "22, 61, 34)}, [56, 'data science'], 'Machine Learning']\n",
    "Note: you must extract numeric keys and values of the dictionary also."
   ]
  },
  {
   "cell_type": "code",
   "execution_count": 57,
   "id": "75597905-f92a-4e48-9b35-bbc1bc1c42af",
   "metadata": {},
   "outputs": [],
   "source": [
    "def product(l):\n",
    "    flat_list = []\n",
    "    for sublist in l:\n",
    "        if type(sublist) == int :\n",
    "            flat_list.append(sublist)\n",
    "        elif type(sublist) == list or type(sublist) == tuple or type(sublist) == set:\n",
    "            for item in sublist:\n",
    "                if type(item) == int :\n",
    "                    flat_list.append(item)\n",
    "        elif type(sublist) == dict:\n",
    "            l1 = list(sublist.keys())\n",
    "            l2 = list(sublist.values())\n",
    "            for item in l1:\n",
    "                if type(item)==int:\n",
    "                    flat_list.append(item)\n",
    "            for item in l2:\n",
    "                if type(item)==int:\n",
    "                    flat_list.append(item)\n",
    "                elif type(item)==list or type(item)==tuple:\n",
    "                    for i in item:\n",
    "                        flat_list.append(i)\n",
    "    print(flat_list)\n",
    "    \n",
    "    mul=1\n",
    "    for i in flat_list:\n",
    "        mul = mul * i\n",
    "    return mul             "
   ]
  },
  {
   "cell_type": "code",
   "execution_count": 58,
   "id": "47711797-e2f4-41b9-b3e8-7f08752af7b7",
   "metadata": {},
   "outputs": [
    {
     "name": "stdout",
     "output_type": "stream",
     "text": [
      "[1, 2, 3, 4, 44, 55, 66, 34, 56, 78, 89, 34, 1, 2, 3, 1, 4, 34, 55, 67, 78, 89, 45, 22, 61, 34, 56]\n"
     ]
    },
    {
     "data": {
      "text/plain": [
       "4134711838987085478833841242112000"
      ]
     },
     "execution_count": 58,
     "metadata": {},
     "output_type": "execute_result"
    }
   ],
   "source": [
    "l = [1,2,3,4, [44,55,66, True], False, (34,56,78,89,34), {1,2,3,3,2,1}, {1:34, \"key2\": [55, 67, 78, 89], 4: (45,22, 61, 34)}, [56, 'data science'], 'Machine Learning']\n",
    "product(l)"
   ]
  },
  {
   "cell_type": "code",
   "execution_count": null,
   "id": "6fa23a8f-9f1e-45e3-94c4-a40ade19925d",
   "metadata": {},
   "outputs": [],
   "source": [
    "Q2. Write a python program for encrypting a message sent to you by your friend. The logic of encryption\n",
    "should be such that, for a the output should be z. For b, the output should be y. For c, the output should\n",
    "be x respectively. Also, the whitespace should be replaced with a dollar sign. Keep the punctuation marks unchanged.\n",
    "Input Sentence: I want to become a Data Scientist.\n",
    "Encrypt the above input sentence using the program you just created.\n",
    "Note: Convert the given input sentence into lowercase before encrypting. The final output should be\n",
    "lowercase."
   ]
  },
  {
   "cell_type": "code",
   "execution_count": 70,
   "id": "b41c1595-1d8f-4105-98c6-9499df223488",
   "metadata": {},
   "outputs": [
    {
     "name": "stdin",
     "output_type": "stream",
     "text": [
      "Enter the message =  I want to become a Data Scientist.\n"
     ]
    },
    {
     "name": "stdout",
     "output_type": "stream",
     "text": [
      "The Encrypt msg is    r$dzmg$gl$yvxlnv$z$wzgz$hxrvmgrhg.\n"
     ]
    }
   ],
   "source": [
    "sentence = input(\"Enter the message = \")\n",
    "new_msg=\"\"\n",
    "old_msg=sentence.lower()\n",
    "for char in old_msg:\n",
    "    if char==\" \":\n",
    "        new_msg += \"$\"\n",
    "    elif char.isalpha():\n",
    "        new_msg += chr(ord(\"a\") + (25 -(ord(char)-ord(\"a\"))))\n",
    "    else :\n",
    "        new_msg +=char\n",
    "print(\"The Encrypt msg is   \",new_msg)"
   ]
  },
  {
   "cell_type": "code",
   "execution_count": null,
   "id": "3af0da9f-16b2-4bcb-9136-8fa599f47bfa",
   "metadata": {},
   "outputs": [],
   "source": []
  }
 ],
 "metadata": {
  "kernelspec": {
   "display_name": "Python 3 (ipykernel)",
   "language": "python",
   "name": "python3"
  },
  "language_info": {
   "codemirror_mode": {
    "name": "ipython",
    "version": 3
   },
   "file_extension": ".py",
   "mimetype": "text/x-python",
   "name": "python",
   "nbconvert_exporter": "python",
   "pygments_lexer": "ipython3",
   "version": "3.10.8"
  }
 },
 "nbformat": 4,
 "nbformat_minor": 5
}
